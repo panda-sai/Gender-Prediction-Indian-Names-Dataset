{
  "nbformat": 4,
  "nbformat_minor": 0,
  "metadata": {
    "colab": {
      "name": "Gender-Prediction.ipynb",
      "provenance": [],
      "include_colab_link": true
    },
    "kernelspec": {
      "name": "python3",
      "display_name": "Python 3"
    }
  },
  "cells": [
    {
      "cell_type": "markdown",
      "metadata": {
        "id": "view-in-github",
        "colab_type": "text"
      },
      "source": [
        "<a href=\"https://colab.research.google.com/github/panda-sai/Gender-Prediction-Indian-Names-Dataset/blob/master/Gender_Prediction.ipynb\" target=\"_parent\"><img src=\"https://colab.research.google.com/assets/colab-badge.svg\" alt=\"Open In Colab\"/></a>"
      ]
    },
    {
      "cell_type": "code",
      "metadata": {
        "id": "ZANH37lPakD4",
        "colab_type": "code",
        "colab": {}
      },
      "source": [
        "import numpy as np\n",
        "import pandas as pd\n",
        "from google.colab import files"
      ],
      "execution_count": 0,
      "outputs": []
    },
    {
      "cell_type": "code",
      "metadata": {
        "id": "7SwHTPvja9cd",
        "colab_type": "code",
        "colab": {
          "resources": {
            "http://localhost:8080/nbextensions/google.colab/files.js": {
              "data": "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",
              "ok": true,
              "headers": [
                [
                  "content-type",
                  "application/javascript"
                ]
              ],
              "status": 200,
              "status_text": ""
            }
          },
          "base_uri": "https://localhost:8080/",
          "height": 74
        },
        "outputId": "15399f05-f8d8-4087-cdfd-99eabb8f68e2"
      },
      "source": [
        "female = files.upload()"
      ],
      "execution_count": 3,
      "outputs": [
        {
          "output_type": "display_data",
          "data": {
            "text/html": [
              "\n",
              "     <input type=\"file\" id=\"files-94b4817d-0603-4c12-a3a5-479c4f73780d\" name=\"files[]\" multiple disabled />\n",
              "     <output id=\"result-94b4817d-0603-4c12-a3a5-479c4f73780d\">\n",
              "      Upload widget is only available when the cell has been executed in the\n",
              "      current browser session. Please rerun this cell to enable.\n",
              "      </output>\n",
              "      <script src=\"/nbextensions/google.colab/files.js\"></script> "
            ],
            "text/plain": [
              "<IPython.core.display.HTML object>"
            ]
          },
          "metadata": {
            "tags": []
          }
        },
        {
          "output_type": "stream",
          "text": [
            "Saving Indian-Female-Names.csv to Indian-Female-Names.csv\n"
          ],
          "name": "stdout"
        }
      ]
    },
    {
      "cell_type": "code",
      "metadata": {
        "id": "Q4f0g86kbbZz",
        "colab_type": "code",
        "colab": {
          "resources": {
            "http://localhost:8080/nbextensions/google.colab/files.js": {
              "data": "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",
              "ok": true,
              "headers": [
                [
                  "content-type",
                  "application/javascript"
                ]
              ],
              "status": 200,
              "status_text": ""
            }
          },
          "base_uri": "https://localhost:8080/",
          "height": 74
        },
        "outputId": "0009f749-d935-4f42-e397-a4a71a37c6da"
      },
      "source": [
        "male = files.upload()"
      ],
      "execution_count": 4,
      "outputs": [
        {
          "output_type": "display_data",
          "data": {
            "text/html": [
              "\n",
              "     <input type=\"file\" id=\"files-840b8f9b-6e24-4e67-9d9d-323db2a808c2\" name=\"files[]\" multiple disabled />\n",
              "     <output id=\"result-840b8f9b-6e24-4e67-9d9d-323db2a808c2\">\n",
              "      Upload widget is only available when the cell has been executed in the\n",
              "      current browser session. Please rerun this cell to enable.\n",
              "      </output>\n",
              "      <script src=\"/nbextensions/google.colab/files.js\"></script> "
            ],
            "text/plain": [
              "<IPython.core.display.HTML object>"
            ]
          },
          "metadata": {
            "tags": []
          }
        },
        {
          "output_type": "stream",
          "text": [
            "Saving Indian-Male-Names.csv to Indian-Male-Names.csv\n"
          ],
          "name": "stdout"
        }
      ]
    },
    {
      "cell_type": "code",
      "metadata": {
        "id": "4Fr8-wyDbjGO",
        "colab_type": "code",
        "colab": {}
      },
      "source": [
        "dfmale = pd.read_csv('Indian-Male-Names.csv')\n",
        "dffemale = pd.read_csv('Indian-Female-Names.csv')"
      ],
      "execution_count": 0,
      "outputs": []
    },
    {
      "cell_type": "code",
      "metadata": {
        "id": "J7bgsxw3cG4F",
        "colab_type": "code",
        "colab": {
          "base_uri": "https://localhost:8080/",
          "height": 204
        },
        "outputId": "d0460121-4ffd-4312-9e74-e25aca4cb576"
      },
      "source": [
        "dffemale.head()"
      ],
      "execution_count": 7,
      "outputs": [
        {
          "output_type": "execute_result",
          "data": {
            "text/html": [
              "<div>\n",
              "<style scoped>\n",
              "    .dataframe tbody tr th:only-of-type {\n",
              "        vertical-align: middle;\n",
              "    }\n",
              "\n",
              "    .dataframe tbody tr th {\n",
              "        vertical-align: top;\n",
              "    }\n",
              "\n",
              "    .dataframe thead th {\n",
              "        text-align: right;\n",
              "    }\n",
              "</style>\n",
              "<table border=\"1\" class=\"dataframe\">\n",
              "  <thead>\n",
              "    <tr style=\"text-align: right;\">\n",
              "      <th></th>\n",
              "      <th>name</th>\n",
              "      <th>gender</th>\n",
              "      <th>race</th>\n",
              "    </tr>\n",
              "  </thead>\n",
              "  <tbody>\n",
              "    <tr>\n",
              "      <th>0</th>\n",
              "      <td>shivani</td>\n",
              "      <td>f</td>\n",
              "      <td>indian</td>\n",
              "    </tr>\n",
              "    <tr>\n",
              "      <th>1</th>\n",
              "      <td>isha</td>\n",
              "      <td>f</td>\n",
              "      <td>indian</td>\n",
              "    </tr>\n",
              "    <tr>\n",
              "      <th>2</th>\n",
              "      <td>smt shyani devi</td>\n",
              "      <td>f</td>\n",
              "      <td>indian</td>\n",
              "    </tr>\n",
              "    <tr>\n",
              "      <th>3</th>\n",
              "      <td>divya</td>\n",
              "      <td>f</td>\n",
              "      <td>indian</td>\n",
              "    </tr>\n",
              "    <tr>\n",
              "      <th>4</th>\n",
              "      <td>mansi</td>\n",
              "      <td>f</td>\n",
              "      <td>indian</td>\n",
              "    </tr>\n",
              "  </tbody>\n",
              "</table>\n",
              "</div>"
            ],
            "text/plain": [
              "              name gender    race\n",
              "0          shivani      f  indian\n",
              "1             isha      f  indian\n",
              "2  smt shyani devi      f  indian\n",
              "3            divya      f  indian\n",
              "4            mansi      f  indian"
            ]
          },
          "metadata": {
            "tags": []
          },
          "execution_count": 7
        }
      ]
    },
    {
      "cell_type": "code",
      "metadata": {
        "id": "VAxTRgUIcRsD",
        "colab_type": "code",
        "colab": {
          "base_uri": "https://localhost:8080/",
          "height": 204
        },
        "outputId": "255135bf-aedb-48dd-eac7-f17b7476c22e"
      },
      "source": [
        "dfmale.head()"
      ],
      "execution_count": 8,
      "outputs": [
        {
          "output_type": "execute_result",
          "data": {
            "text/html": [
              "<div>\n",
              "<style scoped>\n",
              "    .dataframe tbody tr th:only-of-type {\n",
              "        vertical-align: middle;\n",
              "    }\n",
              "\n",
              "    .dataframe tbody tr th {\n",
              "        vertical-align: top;\n",
              "    }\n",
              "\n",
              "    .dataframe thead th {\n",
              "        text-align: right;\n",
              "    }\n",
              "</style>\n",
              "<table border=\"1\" class=\"dataframe\">\n",
              "  <thead>\n",
              "    <tr style=\"text-align: right;\">\n",
              "      <th></th>\n",
              "      <th>name</th>\n",
              "      <th>gender</th>\n",
              "      <th>race</th>\n",
              "    </tr>\n",
              "  </thead>\n",
              "  <tbody>\n",
              "    <tr>\n",
              "      <th>0</th>\n",
              "      <td>barjraj</td>\n",
              "      <td>m</td>\n",
              "      <td>indian</td>\n",
              "    </tr>\n",
              "    <tr>\n",
              "      <th>1</th>\n",
              "      <td>ramdin verma</td>\n",
              "      <td>m</td>\n",
              "      <td>indian</td>\n",
              "    </tr>\n",
              "    <tr>\n",
              "      <th>2</th>\n",
              "      <td>sharat chandran</td>\n",
              "      <td>m</td>\n",
              "      <td>indian</td>\n",
              "    </tr>\n",
              "    <tr>\n",
              "      <th>3</th>\n",
              "      <td>birender mandal</td>\n",
              "      <td>m</td>\n",
              "      <td>indian</td>\n",
              "    </tr>\n",
              "    <tr>\n",
              "      <th>4</th>\n",
              "      <td>amit</td>\n",
              "      <td>m</td>\n",
              "      <td>indian</td>\n",
              "    </tr>\n",
              "  </tbody>\n",
              "</table>\n",
              "</div>"
            ],
            "text/plain": [
              "              name gender    race\n",
              "0          barjraj      m  indian\n",
              "1     ramdin verma      m  indian\n",
              "2  sharat chandran      m  indian\n",
              "3  birender mandal      m  indian\n",
              "4             amit      m  indian"
            ]
          },
          "metadata": {
            "tags": []
          },
          "execution_count": 8
        }
      ]
    },
    {
      "cell_type": "code",
      "metadata": {
        "id": "5o4nD9WRcWdL",
        "colab_type": "code",
        "colab": {}
      },
      "source": [
        "gender = {'m': 1,'f': 0}\n",
        "dfmale.gender = [gender[item] for item in dfmale.gender]\n",
        "dffemale.gender = [gender[item] for item in dffemale.gender]"
      ],
      "execution_count": 0,
      "outputs": []
    },
    {
      "cell_type": "code",
      "metadata": {
        "id": "54B6rjqzdUSE",
        "colab_type": "code",
        "colab": {
          "base_uri": "https://localhost:8080/",
          "height": 204
        },
        "outputId": "cfd0690f-159e-4233-ff4d-4e4e5bfbdc3c"
      },
      "source": [
        "dfmale.head()"
      ],
      "execution_count": 11,
      "outputs": [
        {
          "output_type": "execute_result",
          "data": {
            "text/html": [
              "<div>\n",
              "<style scoped>\n",
              "    .dataframe tbody tr th:only-of-type {\n",
              "        vertical-align: middle;\n",
              "    }\n",
              "\n",
              "    .dataframe tbody tr th {\n",
              "        vertical-align: top;\n",
              "    }\n",
              "\n",
              "    .dataframe thead th {\n",
              "        text-align: right;\n",
              "    }\n",
              "</style>\n",
              "<table border=\"1\" class=\"dataframe\">\n",
              "  <thead>\n",
              "    <tr style=\"text-align: right;\">\n",
              "      <th></th>\n",
              "      <th>name</th>\n",
              "      <th>gender</th>\n",
              "      <th>race</th>\n",
              "    </tr>\n",
              "  </thead>\n",
              "  <tbody>\n",
              "    <tr>\n",
              "      <th>0</th>\n",
              "      <td>barjraj</td>\n",
              "      <td>1</td>\n",
              "      <td>indian</td>\n",
              "    </tr>\n",
              "    <tr>\n",
              "      <th>1</th>\n",
              "      <td>ramdin verma</td>\n",
              "      <td>1</td>\n",
              "      <td>indian</td>\n",
              "    </tr>\n",
              "    <tr>\n",
              "      <th>2</th>\n",
              "      <td>sharat chandran</td>\n",
              "      <td>1</td>\n",
              "      <td>indian</td>\n",
              "    </tr>\n",
              "    <tr>\n",
              "      <th>3</th>\n",
              "      <td>birender mandal</td>\n",
              "      <td>1</td>\n",
              "      <td>indian</td>\n",
              "    </tr>\n",
              "    <tr>\n",
              "      <th>4</th>\n",
              "      <td>amit</td>\n",
              "      <td>1</td>\n",
              "      <td>indian</td>\n",
              "    </tr>\n",
              "  </tbody>\n",
              "</table>\n",
              "</div>"
            ],
            "text/plain": [
              "              name  gender    race\n",
              "0          barjraj       1  indian\n",
              "1     ramdin verma       1  indian\n",
              "2  sharat chandran       1  indian\n",
              "3  birender mandal       1  indian\n",
              "4             amit       1  indian"
            ]
          },
          "metadata": {
            "tags": []
          },
          "execution_count": 11
        }
      ]
    },
    {
      "cell_type": "code",
      "metadata": {
        "id": "9swA4qmAdahF",
        "colab_type": "code",
        "colab": {
          "base_uri": "https://localhost:8080/",
          "height": 204
        },
        "outputId": "26586a26-572e-4855-ddf5-def922ed318b"
      },
      "source": [
        "dffemale.head()"
      ],
      "execution_count": 12,
      "outputs": [
        {
          "output_type": "execute_result",
          "data": {
            "text/html": [
              "<div>\n",
              "<style scoped>\n",
              "    .dataframe tbody tr th:only-of-type {\n",
              "        vertical-align: middle;\n",
              "    }\n",
              "\n",
              "    .dataframe tbody tr th {\n",
              "        vertical-align: top;\n",
              "    }\n",
              "\n",
              "    .dataframe thead th {\n",
              "        text-align: right;\n",
              "    }\n",
              "</style>\n",
              "<table border=\"1\" class=\"dataframe\">\n",
              "  <thead>\n",
              "    <tr style=\"text-align: right;\">\n",
              "      <th></th>\n",
              "      <th>name</th>\n",
              "      <th>gender</th>\n",
              "      <th>race</th>\n",
              "    </tr>\n",
              "  </thead>\n",
              "  <tbody>\n",
              "    <tr>\n",
              "      <th>0</th>\n",
              "      <td>shivani</td>\n",
              "      <td>0</td>\n",
              "      <td>indian</td>\n",
              "    </tr>\n",
              "    <tr>\n",
              "      <th>1</th>\n",
              "      <td>isha</td>\n",
              "      <td>0</td>\n",
              "      <td>indian</td>\n",
              "    </tr>\n",
              "    <tr>\n",
              "      <th>2</th>\n",
              "      <td>smt shyani devi</td>\n",
              "      <td>0</td>\n",
              "      <td>indian</td>\n",
              "    </tr>\n",
              "    <tr>\n",
              "      <th>3</th>\n",
              "      <td>divya</td>\n",
              "      <td>0</td>\n",
              "      <td>indian</td>\n",
              "    </tr>\n",
              "    <tr>\n",
              "      <th>4</th>\n",
              "      <td>mansi</td>\n",
              "      <td>0</td>\n",
              "      <td>indian</td>\n",
              "    </tr>\n",
              "  </tbody>\n",
              "</table>\n",
              "</div>"
            ],
            "text/plain": [
              "              name  gender    race\n",
              "0          shivani       0  indian\n",
              "1             isha       0  indian\n",
              "2  smt shyani devi       0  indian\n",
              "3            divya       0  indian\n",
              "4            mansi       0  indian"
            ]
          },
          "metadata": {
            "tags": []
          },
          "execution_count": 12
        }
      ]
    },
    {
      "cell_type": "code",
      "metadata": {
        "id": "JEGgoM8Jd4jP",
        "colab_type": "code",
        "colab": {
          "base_uri": "https://localhost:8080/",
          "height": 204
        },
        "outputId": "667c4b57-3a5f-462c-f474-c57536daf5e3"
      },
      "source": [
        "dfmale.drop(columns=['race'])\n",
        "dfmale.head()"
      ],
      "execution_count": 29,
      "outputs": [
        {
          "output_type": "execute_result",
          "data": {
            "text/html": [
              "<div>\n",
              "<style scoped>\n",
              "    .dataframe tbody tr th:only-of-type {\n",
              "        vertical-align: middle;\n",
              "    }\n",
              "\n",
              "    .dataframe tbody tr th {\n",
              "        vertical-align: top;\n",
              "    }\n",
              "\n",
              "    .dataframe thead th {\n",
              "        text-align: right;\n",
              "    }\n",
              "</style>\n",
              "<table border=\"1\" class=\"dataframe\">\n",
              "  <thead>\n",
              "    <tr style=\"text-align: right;\">\n",
              "      <th></th>\n",
              "      <th>name</th>\n",
              "      <th>gender</th>\n",
              "    </tr>\n",
              "  </thead>\n",
              "  <tbody>\n",
              "    <tr>\n",
              "      <th>0</th>\n",
              "      <td>barjraj</td>\n",
              "      <td>1</td>\n",
              "    </tr>\n",
              "    <tr>\n",
              "      <th>1</th>\n",
              "      <td>ramdin verma</td>\n",
              "      <td>1</td>\n",
              "    </tr>\n",
              "    <tr>\n",
              "      <th>2</th>\n",
              "      <td>sharat chandran</td>\n",
              "      <td>1</td>\n",
              "    </tr>\n",
              "    <tr>\n",
              "      <th>3</th>\n",
              "      <td>birender mandal</td>\n",
              "      <td>1</td>\n",
              "    </tr>\n",
              "    <tr>\n",
              "      <th>4</th>\n",
              "      <td>amit</td>\n",
              "      <td>1</td>\n",
              "    </tr>\n",
              "  </tbody>\n",
              "</table>\n",
              "</div>"
            ],
            "text/plain": [
              "              name  gender\n",
              "0          barjraj       1\n",
              "1     ramdin verma       1\n",
              "2  sharat chandran       1\n",
              "3  birender mandal       1\n",
              "4             amit       1"
            ]
          },
          "metadata": {
            "tags": []
          },
          "execution_count": 29
        }
      ]
    },
    {
      "cell_type": "code",
      "metadata": {
        "id": "YnYNvbN4mhE2",
        "colab_type": "code",
        "colab": {}
      },
      "source": [
        "dffemale = dffemale.drop(columns=['race'])"
      ],
      "execution_count": 0,
      "outputs": []
    },
    {
      "cell_type": "code",
      "metadata": {
        "id": "gpcBxUWMniBH",
        "colab_type": "code",
        "colab": {
          "base_uri": "https://localhost:8080/",
          "height": 204
        },
        "outputId": "4af5c7e4-1e0a-4e40-b00f-df69956624d9"
      },
      "source": [
        "dffemale.head()"
      ],
      "execution_count": 33,
      "outputs": [
        {
          "output_type": "execute_result",
          "data": {
            "text/html": [
              "<div>\n",
              "<style scoped>\n",
              "    .dataframe tbody tr th:only-of-type {\n",
              "        vertical-align: middle;\n",
              "    }\n",
              "\n",
              "    .dataframe tbody tr th {\n",
              "        vertical-align: top;\n",
              "    }\n",
              "\n",
              "    .dataframe thead th {\n",
              "        text-align: right;\n",
              "    }\n",
              "</style>\n",
              "<table border=\"1\" class=\"dataframe\">\n",
              "  <thead>\n",
              "    <tr style=\"text-align: right;\">\n",
              "      <th></th>\n",
              "      <th>name</th>\n",
              "      <th>gender</th>\n",
              "    </tr>\n",
              "  </thead>\n",
              "  <tbody>\n",
              "    <tr>\n",
              "      <th>0</th>\n",
              "      <td>shivani</td>\n",
              "      <td>0</td>\n",
              "    </tr>\n",
              "    <tr>\n",
              "      <th>1</th>\n",
              "      <td>isha</td>\n",
              "      <td>0</td>\n",
              "    </tr>\n",
              "    <tr>\n",
              "      <th>2</th>\n",
              "      <td>smt shyani devi</td>\n",
              "      <td>0</td>\n",
              "    </tr>\n",
              "    <tr>\n",
              "      <th>3</th>\n",
              "      <td>divya</td>\n",
              "      <td>0</td>\n",
              "    </tr>\n",
              "    <tr>\n",
              "      <th>4</th>\n",
              "      <td>mansi</td>\n",
              "      <td>0</td>\n",
              "    </tr>\n",
              "  </tbody>\n",
              "</table>\n",
              "</div>"
            ],
            "text/plain": [
              "              name  gender\n",
              "0          shivani       0\n",
              "1             isha       0\n",
              "2  smt shyani devi       0\n",
              "3            divya       0\n",
              "4            mansi       0"
            ]
          },
          "metadata": {
            "tags": []
          },
          "execution_count": 33
        }
      ]
    },
    {
      "cell_type": "code",
      "metadata": {
        "id": "NcqCGdwQnzYA",
        "colab_type": "code",
        "colab": {}
      },
      "source": [
        "df = pd.concat([dfmale,dffemale])"
      ],
      "execution_count": 0,
      "outputs": []
    },
    {
      "cell_type": "code",
      "metadata": {
        "id": "iTVN3A4TrkNH",
        "colab_type": "code",
        "colab": {
          "base_uri": "https://localhost:8080/",
          "height": 419
        },
        "outputId": "83a3febd-98b1-4538-e0f0-950b19bc5666"
      },
      "source": [
        "df"
      ],
      "execution_count": 36,
      "outputs": [
        {
          "output_type": "execute_result",
          "data": {
            "text/html": [
              "<div>\n",
              "<style scoped>\n",
              "    .dataframe tbody tr th:only-of-type {\n",
              "        vertical-align: middle;\n",
              "    }\n",
              "\n",
              "    .dataframe tbody tr th {\n",
              "        vertical-align: top;\n",
              "    }\n",
              "\n",
              "    .dataframe thead th {\n",
              "        text-align: right;\n",
              "    }\n",
              "</style>\n",
              "<table border=\"1\" class=\"dataframe\">\n",
              "  <thead>\n",
              "    <tr style=\"text-align: right;\">\n",
              "      <th></th>\n",
              "      <th>name</th>\n",
              "      <th>gender</th>\n",
              "    </tr>\n",
              "  </thead>\n",
              "  <tbody>\n",
              "    <tr>\n",
              "      <th>0</th>\n",
              "      <td>barjraj</td>\n",
              "      <td>1</td>\n",
              "    </tr>\n",
              "    <tr>\n",
              "      <th>1</th>\n",
              "      <td>ramdin verma</td>\n",
              "      <td>1</td>\n",
              "    </tr>\n",
              "    <tr>\n",
              "      <th>2</th>\n",
              "      <td>sharat chandran</td>\n",
              "      <td>1</td>\n",
              "    </tr>\n",
              "    <tr>\n",
              "      <th>3</th>\n",
              "      <td>birender mandal</td>\n",
              "      <td>1</td>\n",
              "    </tr>\n",
              "    <tr>\n",
              "      <th>4</th>\n",
              "      <td>amit</td>\n",
              "      <td>1</td>\n",
              "    </tr>\n",
              "    <tr>\n",
              "      <th>...</th>\n",
              "      <td>...</td>\n",
              "      <td>...</td>\n",
              "    </tr>\n",
              "    <tr>\n",
              "      <th>15377</th>\n",
              "      <td>saroj devi</td>\n",
              "      <td>0</td>\n",
              "    </tr>\n",
              "    <tr>\n",
              "      <th>15378</th>\n",
              "      <td>naina @ geeta</td>\n",
              "      <td>0</td>\n",
              "    </tr>\n",
              "    <tr>\n",
              "      <th>15379</th>\n",
              "      <td>manju d/0 baboo lal jatav</td>\n",
              "      <td>0</td>\n",
              "    </tr>\n",
              "    <tr>\n",
              "      <th>15380</th>\n",
              "      <td>shivani</td>\n",
              "      <td>0</td>\n",
              "    </tr>\n",
              "    <tr>\n",
              "      <th>15381</th>\n",
              "      <td>nayna</td>\n",
              "      <td>0</td>\n",
              "    </tr>\n",
              "  </tbody>\n",
              "</table>\n",
              "<p>30227 rows × 2 columns</p>\n",
              "</div>"
            ],
            "text/plain": [
              "                            name  gender\n",
              "0                        barjraj       1\n",
              "1                   ramdin verma       1\n",
              "2                sharat chandran       1\n",
              "3                birender mandal       1\n",
              "4                           amit       1\n",
              "...                          ...     ...\n",
              "15377                 saroj devi       0\n",
              "15378              naina @ geeta       0\n",
              "15379  manju d/0 baboo lal jatav       0\n",
              "15380                    shivani       0\n",
              "15381                      nayna       0\n",
              "\n",
              "[30227 rows x 2 columns]"
            ]
          },
          "metadata": {
            "tags": []
          },
          "execution_count": 36
        }
      ]
    },
    {
      "cell_type": "code",
      "metadata": {
        "id": "EHufTe6AsPTZ",
        "colab_type": "code",
        "colab": {}
      },
      "source": [
        "dffinal = df.sample(frac=1)"
      ],
      "execution_count": 0,
      "outputs": []
    },
    {
      "cell_type": "code",
      "metadata": {
        "id": "R9WyPTh2sgd-",
        "colab_type": "code",
        "colab": {
          "base_uri": "https://localhost:8080/",
          "height": 204
        },
        "outputId": "1654d1ae-de51-4bae-b97d-ea9b53fa0f09"
      },
      "source": [
        "dffinal.head()"
      ],
      "execution_count": 38,
      "outputs": [
        {
          "output_type": "execute_result",
          "data": {
            "text/html": [
              "<div>\n",
              "<style scoped>\n",
              "    .dataframe tbody tr th:only-of-type {\n",
              "        vertical-align: middle;\n",
              "    }\n",
              "\n",
              "    .dataframe tbody tr th {\n",
              "        vertical-align: top;\n",
              "    }\n",
              "\n",
              "    .dataframe thead th {\n",
              "        text-align: right;\n",
              "    }\n",
              "</style>\n",
              "<table border=\"1\" class=\"dataframe\">\n",
              "  <thead>\n",
              "    <tr style=\"text-align: right;\">\n",
              "      <th></th>\n",
              "      <th>name</th>\n",
              "      <th>gender</th>\n",
              "    </tr>\n",
              "  </thead>\n",
              "  <tbody>\n",
              "    <tr>\n",
              "      <th>10297</th>\n",
              "      <td>vishal panchal</td>\n",
              "      <td>1</td>\n",
              "    </tr>\n",
              "    <tr>\n",
              "      <th>10748</th>\n",
              "      <td>sanjay</td>\n",
              "      <td>1</td>\n",
              "    </tr>\n",
              "    <tr>\n",
              "      <th>8607</th>\n",
              "      <td>shaira</td>\n",
              "      <td>0</td>\n",
              "    </tr>\n",
              "    <tr>\n",
              "      <th>3312</th>\n",
              "      <td>sushila</td>\n",
              "      <td>0</td>\n",
              "    </tr>\n",
              "    <tr>\n",
              "      <th>2079</th>\n",
              "      <td>kali charan sain</td>\n",
              "      <td>1</td>\n",
              "    </tr>\n",
              "  </tbody>\n",
              "</table>\n",
              "</div>"
            ],
            "text/plain": [
              "                   name  gender\n",
              "10297    vishal panchal       1\n",
              "10748            sanjay       1\n",
              "8607             shaira       0\n",
              "3312            sushila       0\n",
              "2079   kali charan sain       1"
            ]
          },
          "metadata": {
            "tags": []
          },
          "execution_count": 38
        }
      ]
    },
    {
      "cell_type": "code",
      "metadata": {
        "id": "WW12N7trs630",
        "colab_type": "code",
        "colab": {
          "base_uri": "https://localhost:8080/",
          "height": 51
        },
        "outputId": "7db5746f-dac5-4463-ac34-baa0d40964b3"
      },
      "source": [
        "print(df.size)\n",
        "print(dffinal.size)"
      ],
      "execution_count": 40,
      "outputs": [
        {
          "output_type": "stream",
          "text": [
            "60454\n",
            "60454\n"
          ],
          "name": "stdout"
        }
      ]
    },
    {
      "cell_type": "code",
      "metadata": {
        "id": "4okuoK-tvmMx",
        "colab_type": "code",
        "colab": {}
      },
      "source": [
        "from sklearn.model_selection import train_test_split\n",
        "from sklearn.feature_extraction.text import CountVectorizer\n",
        "from sklearn.feature_extraction import DictVectorizer"
      ],
      "execution_count": 0,
      "outputs": []
    },
    {
      "cell_type": "code",
      "metadata": {
        "id": "GVP92isPwLdC",
        "colab_type": "code",
        "colab": {}
      },
      "source": [
        "names = dffinal['name']"
      ],
      "execution_count": 0,
      "outputs": []
    },
    {
      "cell_type": "code",
      "metadata": {
        "id": "NmYbVLrkwbgq",
        "colab_type": "code",
        "colab": {
          "base_uri": "https://localhost:8080/",
          "height": 221
        },
        "outputId": "e12cd762-d969-4175-abc2-989780c92bc0"
      },
      "source": [
        "names"
      ],
      "execution_count": 43,
      "outputs": [
        {
          "output_type": "execute_result",
          "data": {
            "text/plain": [
              "10297           vishal panchal\n",
              "10748                   sanjay\n",
              "8607                    shaira\n",
              "3312                   sushila\n",
              "2079          kali charan sain\n",
              "                 ...          \n",
              "8028                    netram\n",
              "3575                 gauravgil\n",
              "12430                  gulista\n",
              "7559     birender kishor bhala\n",
              "4818                    preeti\n",
              "Name: name, Length: 30227, dtype: object"
            ]
          },
          "metadata": {
            "tags": []
          },
          "execution_count": 43
        }
      ]
    },
    {
      "cell_type": "code",
      "metadata": {
        "id": "tI27BY1Uw9ym",
        "colab_type": "code",
        "colab": {
          "base_uri": "https://localhost:8080/",
          "height": 68
        },
        "outputId": "9ade1c06-b6ca-49b5-d9b0-fee7cb82e6c5"
      },
      "source": [
        "names[0]"
      ],
      "execution_count": 45,
      "outputs": [
        {
          "output_type": "execute_result",
          "data": {
            "text/plain": [
              "0    shivani\n",
              "0    barjraj\n",
              "Name: name, dtype: object"
            ]
          },
          "metadata": {
            "tags": []
          },
          "execution_count": 45
        }
      ]
    },
    {
      "cell_type": "code",
      "metadata": {
        "id": "Lb2wq_b9wetz",
        "colab_type": "code",
        "colab": {}
      },
      "source": [
        "cv = CountVectorizer()\n",
        "X = cv.fit_transform(names.values.astype('U'))"
      ],
      "execution_count": 0,
      "outputs": []
    },
    {
      "cell_type": "code",
      "metadata": {
        "id": "PXpyOAF5xiij",
        "colab_type": "code",
        "colab": {
          "base_uri": "https://localhost:8080/",
          "height": 1000
        },
        "outputId": "be5f8a8c-02cb-4929-d156-b882a7e50976"
      },
      "source": [
        "cv.get_feature_names()"
      ],
      "execution_count": 51,
      "outputs": [
        {
          "output_type": "execute_result",
          "data": {
            "text/plain": [
              "['02',\n",
              " '105',\n",
              " '11',\n",
              " '16',\n",
              " '18',\n",
              " '1957975',\n",
              " '1st',\n",
              " '20',\n",
              " '21',\n",
              " '24',\n",
              " '25',\n",
              " '27',\n",
              " '28',\n",
              " '33',\n",
              " '330',\n",
              " '341',\n",
              " '35',\n",
              " '3rd',\n",
              " '3yrs',\n",
              " '4yrs',\n",
              " '629',\n",
              " '66',\n",
              " '6month',\n",
              " '72',\n",
              " '7206252659',\n",
              " '7404660980',\n",
              " '773',\n",
              " '78',\n",
              " '8295508258',\n",
              " '86',\n",
              " '8901040854',\n",
              " '95',\n",
              " '9813186044',\n",
              " '9yr',\n",
              " 'aabid',\n",
              " 'aabida',\n",
              " 'aachal',\n",
              " 'aadesh',\n",
              " 'aadil',\n",
              " 'aadish',\n",
              " 'aaditya',\n",
              " 'aaenab',\n",
              " 'aafreen',\n",
              " 'aafrin',\n",
              " 'aaftaab',\n",
              " 'aaftab',\n",
              " 'aagad',\n",
              " 'aagand',\n",
              " 'aahim',\n",
              " 'aahuja',\n",
              " 'aajad',\n",
              " 'aajam',\n",
              " 'aajiv',\n",
              " 'aakanksha',\n",
              " 'aakar',\n",
              " 'aakas',\n",
              " 'aakash',\n",
              " 'aakhon',\n",
              " 'aakib',\n",
              " 'aakil',\n",
              " 'aalabndi',\n",
              " 'aalam',\n",
              " 'aale',\n",
              " 'aalina',\n",
              " 'aaliya',\n",
              " 'aamil',\n",
              " 'aamin',\n",
              " 'aamina',\n",
              " 'aamir',\n",
              " 'aamliya',\n",
              " 'aamna',\n",
              " 'aamod',\n",
              " 'aamosh',\n",
              " 'aamrin',\n",
              " 'aanad',\n",
              " 'aanamika',\n",
              " 'aanand',\n",
              " 'aanchal',\n",
              " 'aanik',\n",
              " 'aanil',\n",
              " 'aansi',\n",
              " 'aansu',\n",
              " 'aanu',\n",
              " 'aanya',\n",
              " 'aapa',\n",
              " 'aapu',\n",
              " 'aaqif',\n",
              " 'aara',\n",
              " 'aaradhana',\n",
              " 'aarati',\n",
              " 'aarav',\n",
              " 'aardhna',\n",
              " 'aarif',\n",
              " 'aarifa',\n",
              " 'aarifun',\n",
              " 'aariv',\n",
              " 'aarju',\n",
              " 'aarsi',\n",
              " 'aarti',\n",
              " 'aarushi',\n",
              " 'aary',\n",
              " 'aarya',\n",
              " 'aas',\n",
              " 'aasa',\n",
              " 'aasan',\n",
              " 'aash',\n",
              " 'aasha',\n",
              " 'aashi',\n",
              " 'aashia',\n",
              " 'aashif',\n",
              " 'aashik',\n",
              " 'aashiq',\n",
              " 'aashis',\n",
              " 'aashish',\n",
              " 'aashiya',\n",
              " 'aashkim',\n",
              " 'aashma',\n",
              " 'aashre',\n",
              " 'aashu',\n",
              " 'aasif',\n",
              " 'aasim',\n",
              " 'aasish',\n",
              " 'aasma',\n",
              " 'aasmin',\n",
              " 'aastha',\n",
              " 'aasto',\n",
              " 'aasu',\n",
              " 'aatam',\n",
              " 'aatif',\n",
              " 'aatikun',\n",
              " 'aatir',\n",
              " 'aavesh',\n",
              " 'aayana',\n",
              " 'aayesha',\n",
              " 'aaysha',\n",
              " 'aayush',\n",
              " 'aazad',\n",
              " 'aazadi',\n",
              " 'aba',\n",
              " 'abash',\n",
              " 'abbal',\n",
              " 'abbas',\n",
              " 'abdul',\n",
              " 'abdulla',\n",
              " 'abdullah',\n",
              " 'abha',\n",
              " 'abhaki',\n",
              " 'abhash',\n",
              " 'abhay',\n",
              " 'abhaysingh',\n",
              " 'abhi',\n",
              " 'abhijeet',\n",
              " 'abhijit',\n",
              " 'abhilash',\n",
              " 'abhilasha',\n",
              " 'abhimanu',\n",
              " 'abhimanyu',\n",
              " 'abhinandan',\n",
              " 'abhinash',\n",
              " 'abhinav',\n",
              " 'abhinay',\n",
              " 'abhinwav',\n",
              " 'abhiraj',\n",
              " 'abhisek',\n",
              " 'abhisekh',\n",
              " 'abhishak',\n",
              " 'abhishek',\n",
              " 'abhishekh',\n",
              " 'abhishiek',\n",
              " 'abhishik',\n",
              " 'abid',\n",
              " 'abida',\n",
              " 'abiman',\n",
              " 'abishak',\n",
              " 'abishek',\n",
              " 'abrar',\n",
              " 'abrol',\n",
              " 'abu',\n",
              " 'abul',\n",
              " 'abusala',\n",
              " 'achariy',\n",
              " 'achin',\n",
              " 'adak',\n",
              " 'adalat',\n",
              " 'adan',\n",
              " 'adarsh',\n",
              " 'adersen',\n",
              " 'adesh',\n",
              " 'adhikari',\n",
              " 'adhish',\n",
              " 'adhkari',\n",
              " 'adi',\n",
              " 'adiba',\n",
              " 'adil',\n",
              " 'adisan',\n",
              " 'aditi',\n",
              " 'aditiya',\n",
              " 'aditya',\n",
              " 'adityalok',\n",
              " 'adiwasi',\n",
              " 'adnan',\n",
              " 'adrash',\n",
              " 'adrim',\n",
              " 'adtiya',\n",
              " 'aejaz',\n",
              " 'aesha',\n",
              " 'afarin',\n",
              " 'affan',\n",
              " 'afjal',\n",
              " 'afreen',\n",
              " 'afridi',\n",
              " 'afrin',\n",
              " 'afrina',\n",
              " 'afrooj',\n",
              " 'afroz',\n",
              " 'afsana',\n",
              " 'afsar',\n",
              " 'afsari',\n",
              " 'afsha',\n",
              " 'afshan',\n",
              " 'afshana',\n",
              " 'afshar',\n",
              " 'aftab',\n",
              " 'afzaj',\n",
              " 'afzal',\n",
              " 'agarwal',\n",
              " 'agawal',\n",
              " 'age',\n",
              " 'aged',\n",
              " 'aggarwal',\n",
              " 'agnihothri',\n",
              " 'agrawal',\n",
              " 'agrej',\n",
              " 'agrrwal',\n",
              " 'agrwal',\n",
              " 'agyapad',\n",
              " 'ahad',\n",
              " 'ahalawat',\n",
              " 'ahamad',\n",
              " 'ahamd',\n",
              " 'ahamed',\n",
              " 'ahari',\n",
              " 'ahedi',\n",
              " 'ahemad',\n",
              " 'ahlawat',\n",
              " 'ahmad',\n",
              " 'ahmead',\n",
              " 'ahmed',\n",
              " 'ahsamin',\n",
              " 'ahsan',\n",
              " 'ahshan',\n",
              " 'ahuja',\n",
              " 'ahupendra',\n",
              " 'aidtya',\n",
              " 'aijay',\n",
              " 'aikka',\n",
              " 'aisha',\n",
              " 'aishe',\n",
              " 'aishwarya',\n",
              " 'ajab',\n",
              " 'ajad',\n",
              " 'ajahar',\n",
              " 'ajaj',\n",
              " 'ajamat',\n",
              " 'ajan',\n",
              " 'ajara',\n",
              " 'ajay',\n",
              " 'ajaypal',\n",
              " 'ajeem',\n",
              " 'ajeet',\n",
              " 'ajim',\n",
              " 'ajima',\n",
              " 'ajit',\n",
              " 'ajiz',\n",
              " 'ajju',\n",
              " 'ajkati',\n",
              " 'ajmal',\n",
              " 'ajman',\n",
              " 'ajmer',\n",
              " 'ajmeri',\n",
              " 'ajmit',\n",
              " 'ajnabi',\n",
              " 'ajnoor',\n",
              " 'ajra',\n",
              " 'ajuba',\n",
              " 'akaash',\n",
              " 'akansh',\n",
              " 'akansha',\n",
              " 'akash',\n",
              " 'akashya',\n",
              " 'akbar',\n",
              " 'akbari',\n",
              " 'akeel',\n",
              " 'akhalak',\n",
              " 'akhatari',\n",
              " 'akheelesh',\n",
              " 'akhil',\n",
              " 'akhilesh',\n",
              " 'akhileshwer',\n",
              " 'akhlakh',\n",
              " 'akhlaq',\n",
              " 'akhlesh',\n",
              " 'akhlish',\n",
              " 'akhtar',\n",
              " 'akhtari',\n",
              " 'akhter',\n",
              " 'akhtri',\n",
              " 'aki',\n",
              " 'akib',\n",
              " 'akif',\n",
              " 'akil',\n",
              " 'akilesh',\n",
              " 'akkash',\n",
              " 'akkni',\n",
              " 'aklim',\n",
              " 'akram',\n",
              " 'aksha',\n",
              " 'akshat',\n",
              " 'akshay',\n",
              " 'akshit',\n",
              " 'akshita',\n",
              " 'akshpaat',\n",
              " 'aktab',\n",
              " 'akthari',\n",
              " 'aktri',\n",
              " 'al',\n",
              " 'al0k',\n",
              " 'aladeen',\n",
              " 'alahbasri',\n",
              " 'alam',\n",
              " 'alamin',\n",
              " 'alapna',\n",
              " 'alaudin',\n",
              " 'albaksha',\n",
              " 'albina',\n",
              " 'aleesha',\n",
              " 'alema',\n",
              " 'alfiya',\n",
              " 'alhamdi',\n",
              " 'ali',\n",
              " 'alias',\n",
              " 'alijan',\n",
              " 'alikhan',\n",
              " 'alim',\n",
              " 'alima',\n",
              " 'alina',\n",
              " 'alis',\n",
              " 'alish',\n",
              " 'alisha',\n",
              " 'alita',\n",
              " 'aliya',\n",
              " 'alka',\n",
              " 'alkesh',\n",
              " 'alkha',\n",
              " 'allabaksh',\n",
              " 'allam',\n",
              " 'allaraji',\n",
              " 'allauddin',\n",
              " 'alli',\n",
              " 'alma',\n",
              " 'almas',\n",
              " 'almina',\n",
              " 'almola',\n",
              " 'alok',\n",
              " 'along',\n",
              " 'alongh',\n",
              " 'alongwith',\n",
              " 'alpej',\n",
              " 'alseepa',\n",
              " 'altab',\n",
              " 'altaf',\n",
              " 'altmash',\n",
              " 'aluddin',\n",
              " 'alvi',\n",
              " 'amahad',\n",
              " 'amal',\n",
              " 'aman',\n",
              " 'amana',\n",
              " 'amandeep',\n",
              " 'amanjeet',\n",
              " 'amar',\n",
              " 'amarapal',\n",
              " 'amarawati',\n",
              " 'amarchand',\n",
              " 'amardeep',\n",
              " 'amarendra',\n",
              " 'amari',\n",
              " 'amarin',\n",
              " 'amarjeet',\n",
              " 'amarjit',\n",
              " 'amarmula',\n",
              " 'amarnath',\n",
              " 'amart',\n",
              " 'amarvesh',\n",
              " 'amasi',\n",
              " 'amba',\n",
              " 'amber',\n",
              " 'ambika',\n",
              " 'ambiya',\n",
              " 'ameen',\n",
              " 'ameer',\n",
              " 'ameera',\n",
              " 'amena',\n",
              " 'amhed',\n",
              " 'ami',\n",
              " 'amida',\n",
              " 'amie',\n",
              " 'amijan',\n",
              " 'amil',\n",
              " 'amin',\n",
              " 'amina',\n",
              " 'amir',\n",
              " 'amiraka',\n",
              " 'amiri',\n",
              " 'amirul',\n",
              " 'amisha',\n",
              " 'amit',\n",
              " 'amita',\n",
              " 'amjad',\n",
              " 'amjat',\n",
              " 'amkit',\n",
              " 'amlesh',\n",
              " 'ammar',\n",
              " 'amna',\n",
              " 'amol',\n",
              " 'amot',\n",
              " 'amrat',\n",
              " 'amratalal',\n",
              " 'amreek',\n",
              " 'amreen',\n",
              " 'amreeta',\n",
              " 'amresh',\n",
              " 'amri',\n",
              " 'amrik',\n",
              " 'amrika',\n",
              " 'amrin',\n",
              " 'amrish',\n",
              " 'amrit',\n",
              " 'amrita',\n",
              " 'amritha',\n",
              " 'amritpal',\n",
              " 'amrjeet',\n",
              " 'amrooti',\n",
              " 'amrta',\n",
              " 'amrudin',\n",
              " 'amuchla',\n",
              " 'amuda',\n",
              " 'amzad',\n",
              " 'an',\n",
              " 'anadi',\n",
              " 'anadn',\n",
              " 'anaji',\n",
              " 'anam',\n",
              " 'anamika',\n",
              " 'anamkhan',\n",
              " 'anamol',\n",
              " 'anand',\n",
              " 'anandi',\n",
              " 'anandu',\n",
              " 'anandwati',\n",
              " 'anantram',\n",
              " 'ananula',\n",
              " 'anara',\n",
              " 'anarkali',\n",
              " 'anaro',\n",
              " 'anash',\n",
              " 'anayatha',\n",
              " 'anchal',\n",
              " 'anchhi',\n",
              " 'anchu',\n",
              " 'and',\n",
              " 'andhav',\n",
              " 'aneeta',\n",
              " 'aneja',\n",
              " 'anekha',\n",
              " 'angad',\n",
              " 'angan',\n",
              " 'angda',\n",
              " 'anglika',\n",
              " 'angoori',\n",
              " 'angreg',\n",
              " 'angriya',\n",
              " 'anguri',\n",
              " 'anikesh',\n",
              " 'aniket',\n",
              " 'anikt',\n",
              " 'anil',\n",
              " 'animesh',\n",
              " 'anirudh',\n",
              " 'anish',\n",
              " 'anisha',\n",
              " 'anita',\n",
              " 'anja',\n",
              " 'anjal',\n",
              " 'anjali',\n",
              " 'anjaly',\n",
              " 'anjan',\n",
              " 'anjana',\n",
              " 'anjani',\n",
              " 'anjar',\n",
              " 'anjara',\n",
              " 'anjeev',\n",
              " 'anjeta',\n",
              " 'anjila',\n",
              " 'anjli',\n",
              " 'anjna',\n",
              " 'anjrej',\n",
              " 'anju',\n",
              " 'anjum',\n",
              " 'anjuman',\n",
              " 'ankaj',\n",
              " 'ankala',\n",
              " 'ankar',\n",
              " 'ankeet',\n",
              " 'ankesh',\n",
              " 'ankil',\n",
              " 'ankit',\n",
              " 'ankita',\n",
              " 'anku',\n",
              " 'ankur',\n",
              " 'ankus',\n",
              " 'ankush',\n",
              " 'anl',\n",
              " 'anli',\n",
              " 'anmol',\n",
              " 'ann',\n",
              " 'annat',\n",
              " 'annavi',\n",
              " 'annielal',\n",
              " 'annju',\n",
              " 'anno',\n",
              " 'annpurna',\n",
              " 'annu',\n",
              " 'anoj',\n",
              " 'anokha',\n",
              " 'anooj',\n",
              " 'anoop',\n",
              " 'anoopama',\n",
              " 'anoura',\n",
              " 'ansal',\n",
              " 'ansar',\n",
              " 'ansari',\n",
              " 'ansh',\n",
              " 'anshika',\n",
              " 'anshita',\n",
              " 'anshiya',\n",
              " 'anshu',\n",
              " 'anshul',\n",
              " 'anshum',\n",
              " 'anshuman',\n",
              " 'ansu',\n",
              " 'ansul',\n",
              " 'anta',\n",
              " 'antim',\n",
              " 'antima',\n",
              " 'anu',\n",
              " 'anubhav',\n",
              " 'anuj',\n",
              " 'anuja',\n",
              " 'anup',\n",
              " 'anupam',\n",
              " 'anupama',\n",
              " 'anupriya',\n",
              " 'anupuma',\n",
              " 'anuradha',\n",
              " 'anurag',\n",
              " 'anuragi',\n",
              " 'anuraj',\n",
              " 'anurudh',\n",
              " 'anus',\n",
              " 'anushka',\n",
              " 'anuska',\n",
              " 'anusoya',\n",
              " 'anusuiya',\n",
              " 'anuu',\n",
              " 'anvar',\n",
              " 'anwar',\n",
              " 'anwari',\n",
              " 'any',\n",
              " 'anzum',\n",
              " 'aoosaf',\n",
              " 'aparna',\n",
              " 'aphasana',\n",
              " 'aphsana',\n",
              " 'appar',\n",
              " 'apsana',\n",
              " 'arab',\n",
              " 'araddhna',\n",
              " 'aradhana',\n",
              " 'arafaat',\n",
              " 'arafat',\n",
              " 'arajun',\n",
              " 'araslan',\n",
              " 'arati',\n",
              " 'aravind',\n",
              " 'arbaj',\n",
              " 'arbana',\n",
              " 'arbaz',\n",
              " 'archan',\n",
              " 'archana',\n",
              " 'archita',\n",
              " 'archna',\n",
              " 'areen',\n",
              " 'arfan',\n",
              " 'arham',\n",
              " 'arhiyant',\n",
              " 'ariba',\n",
              " 'arif',\n",
              " 'arifa',\n",
              " 'arindom',\n",
              " 'arindra',\n",
              " 'arjina',\n",
              " 'arjoo',\n",
              " 'arjun',\n",
              " 'armaan',\n",
              " 'arman',\n",
              " 'armita',\n",
              " 'arnab',\n",
              " 'arnabjit',\n",
              " 'aroan',\n",
              " 'aroda',\n",
              " 'arora',\n",
              " 'arpit',\n",
              " 'arpna',\n",
              " 'arsad',\n",
              " 'arsh',\n",
              " 'arshad',\n",
              " 'arshi',\n",
              " 'arshla',\n",
              " 'arsi',\n",
              " 'arthi',\n",
              " 'arti',\n",
              " 'aru',\n",
              " 'arun',\n",
              " 'aruna',\n",
              " 'aruni',\n",
              " 'arunkumar',\n",
              " 'arvind',\n",
              " 'arvinder',\n",
              " 'arya',\n",
              " 'aryan',\n",
              " 'arzoo',\n",
              " 'asagar',\n",
              " 'asana',\n",
              " 'asanti',\n",
              " 'asarfi',\n",
              " 'asawara',\n",
              " 'asfak',\n",
              " 'asfaq',\n",
              " 'asgar',\n",
              " 'asgari',\n",
              " 'asha',\n",
              " 'ashad',\n",
              " 'ashak',\n",
              " 'ashan',\n",
              " 'ashanjali',\n",
              " 'asharam',\n",
              " 'asharani',\n",
              " 'ashfaq',\n",
              " 'ashif',\n",
              " 'ashik',\n",
              " 'ashikeen',\n",
              " 'ashim',\n",
              " 'ashima',\n",
              " 'ashiqu',\n",
              " 'ashish',\n",
              " 'ashishi',\n",
              " 'ashita',\n",
              " 'ashiya',\n",
              " 'ashlam',\n",
              " 'ashma',\n",
              " 'ashman',\n",
              " 'ashmi',\n",
              " 'ashmin',\n",
              " 'ashnu',\n",
              " 'asho',\n",
              " 'ashoda',\n",
              " 'ashok',\n",
              " 'ashra',\n",
              " 'ashrabi',\n",
              " 'ashraf',\n",
              " 'ashraiya',\n",
              " 'ashray',\n",
              " 'ashre',\n",
              " 'ashrfi',\n",
              " 'ashshwer',\n",
              " 'ashsish',\n",
              " 'ashtha',\n",
              " 'ashu',\n",
              " 'ashutosh',\n",
              " 'ashwani',\n",
              " 'ashwini',\n",
              " 'asi',\n",
              " 'asif',\n",
              " 'asish',\n",
              " 'asiwani',\n",
              " 'asiya',\n",
              " 'aslam',\n",
              " 'asma',\n",
              " 'asman',\n",
              " 'asmat',\n",
              " 'asmin',\n",
              " 'asmina',\n",
              " 'asmit',\n",
              " 'asmita',\n",
              " 'asodha',\n",
              " 'asraf',\n",
              " 'asrani',\n",
              " 'asre',\n",
              " 'asrf',\n",
              " 'asruddin',\n",
              " 'astha',\n",
              " 'asutosh',\n",
              " 'aswal',\n",
              " 'aswani',\n",
              " 'aswin',\n",
              " 'atal',\n",
              " 'atanu',\n",
              " 'ataullah',\n",
              " 'ateek',\n",
              " 'atif',\n",
              " 'atiq',\n",
              " 'atish',\n",
              " 'atitaj',\n",
              " 'atnari',\n",
              " 'atre',\n",
              " 'atta',\n",
              " 'attar',\n",
              " 'attu',\n",
              " 'atu',\n",
              " 'atul',\n",
              " 'atwal',\n",
              " 'auhari',\n",
              " 'aurao',\n",
              " 'auto',\n",
              " 'avadh',\n",
              " 'available',\n",
              " 'avantika',\n",
              " 'avastha',\n",
              " 'avasthi',\n",
              " 'avatar',\n",
              " 'avaz',\n",
              " 'avdesh',\n",
              " 'avdhesh',\n",
              " 'avfesh',\n",
              " 'avi',\n",
              " 'avid',\n",
              " 'avinas',\n",
              " 'avinash',\n",
              " 'avinsh',\n",
              " 'avneet',\n",
              " 'avnish',\n",
              " 'avnit',\n",
              " 'avtar',\n",
              " 'avwsthi',\n",
              " 'awar',\n",
              " 'awasthi',\n",
              " 'awdesh',\n",
              " 'awdhesh',\n",
              " 'awedhesh',\n",
              " 'awshin',\n",
              " 'awtar',\n",
              " 'axat',\n",
              " 'axra',\n",
              " 'ayan',\n",
              " 'ayasha',\n",
              " 'ayodhya',\n",
              " 'aysha',\n",
              " 'ayub',\n",
              " 'ayube',\n",
              " 'ayush',\n",
              " 'ayushi',\n",
              " 'azad',\n",
              " 'azam',\n",
              " 'azaruddin',\n",
              " 'azaz',\n",
              " 'azhar',\n",
              " 'azim',\n",
              " 'azimudeen',\n",
              " 'aziz',\n",
              " 'azmi',\n",
              " 'azmira',\n",
              " 'azruddin',\n",
              " 'azzul',\n",
              " 'baai',\n",
              " 'baali',\n",
              " 'baam',\n",
              " 'baano',\n",
              " 'baba',\n",
              " 'babali',\n",
              " 'babalu',\n",
              " 'baban',\n",
              " 'babar',\n",
              " 'babbi',\n",
              " 'babbli',\n",
              " 'babblu',\n",
              " 'babbu',\n",
              " 'babby',\n",
              " 'babi',\n",
              " 'babita',\n",
              " 'babli',\n",
              " 'babloo',\n",
              " 'bablu',\n",
              " 'baboo',\n",
              " 'babram',\n",
              " 'babu',\n",
              " 'babudden',\n",
              " 'babuddin',\n",
              " 'babul',\n",
              " 'babulal',\n",
              " 'babupuri',\n",
              " 'baburam',\n",
              " 'babuu',\n",
              " 'baby',\n",
              " 'baccha',\n",
              " 'bacchan',\n",
              " 'bacche',\n",
              " 'bacchi',\n",
              " 'bacchu',\n",
              " 'bachan',\n",
              " 'bachcha',\n",
              " 'bachhani',\n",
              " 'bachheshwar',\n",
              " 'bachhu',\n",
              " 'bachu',\n",
              " 'bada',\n",
              " 'badal',\n",
              " 'badami',\n",
              " 'badan',\n",
              " 'badarjahan',\n",
              " 'badhu',\n",
              " 'badi',\n",
              " 'badnath',\n",
              " 'badoni',\n",
              " 'badrealam',\n",
              " 'badri',\n",
              " 'badru',\n",
              " 'badrudeen',\n",
              " 'badrulla',\n",
              " 'badrunisha',\n",
              " 'badshya',\n",
              " 'baga',\n",
              " 'bagalia',\n",
              " 'bagam',\n",
              " 'bagaram',\n",
              " 'bagcdani',\n",
              " 'bagdai',\n",
              " 'bagdi',\n",
              " 'bagga',\n",
              " 'baggusingh',\n",
              " 'bagh',\n",
              " 'baghel',\n",
              " 'bagoriya',\n",
              " 'bagri',\n",
              " 'bagriya',\n",
              " 'bagwan',\n",
              " 'bahadur',\n",
              " 'bahalen',\n",
              " 'bahart',\n",
              " 'bahl',\n",
              " 'bahnu',\n",
              " 'bahrat',\n",
              " 'bahuguna',\n",
              " 'bahvarkali',\n",
              " 'bahwana',\n",
              " 'bai',\n",
              " 'baichan',\n",
              " 'baidnath',\n",
              " 'baiesa',\n",
              " 'baigum',\n",
              " 'baijnath',\n",
              " 'baikunthi',\n",
              " 'bailwal',\n",
              " 'bainsla',\n",
              " 'bairagi',\n",
              " 'bairva',\n",
              " 'bairwa',\n",
              " 'baisla',\n",
              " 'baita',\n",
              " 'baiya',\n",
              " 'bajadur',\n",
              " 'bajaj',\n",
              " 'bajali',\n",
              " 'bajinder',\n",
              " 'bajrang',\n",
              " 'bajrangi',\n",
              " 'bajulal',\n",
              " 'bajwan',\n",
              " 'bake',\n",
              " 'bakhla',\n",
              " 'bakhtvaar',\n",
              " 'bakhu',\n",
              " 'bakila',\n",
              " 'baks',\n",
              " 'baksh',\n",
              " 'bakshi',\n",
              " 'baksi',\n",
              " 'bal',\n",
              " 'bala',\n",
              " 'balai',\n",
              " 'balak',\n",
              " 'balalia',\n",
              " 'balam',\n",
              " 'balaram',\n",
              " 'balbant',\n",
              " 'balbeer',\n",
              " 'balbir',\n",
              " 'balbiri',\n",
              " 'balchand',\n",
              " 'balda',\n",
              " 'baldev',\n",
              " 'baleshwar',\n",
              " 'baleshwari',\n",
              " 'baleshwer',\n",
              " 'bali',\n",
              " 'baliram',\n",
              " 'baliya',\n",
              " 'baliyan',\n",
              " 'baljeet',\n",
              " 'baljinder',\n",
              " 'baljit',\n",
              " 'balkishan',\n",
              " 'ballabh',\n",
              " 'ballu',\n",
              " 'balmiki',\n",
              " 'balraj',\n",
              " 'balram',\n",
              " 'balsingh',\n",
              " 'balti',\n",
              " 'balu',\n",
              " 'balue',\n",
              " 'baluram',\n",
              " 'balveer',\n",
              " 'balvinder',\n",
              " 'balwan',\n",
              " 'balwani',\n",
              " 'balwant',\n",
              " 'balwanti',\n",
              " 'banarji',\n",
              " 'banarsi',\n",
              " 'bandana',\n",
              " 'bandani',\n",
              " 'bandiya',\n",
              " 'bandu',\n",
              " 'banerjee',\n",
              " 'bangali',\n",
              " 'bangari',\n",
              " 'bani',\n",
              " 'banita',\n",
              " 'baniya',\n",
              " 'banjara',\n",
              " 'banju',\n",
              " 'bankoti',\n",
              " 'banno',\n",
              " 'bannu',\n",
              " 'bano',\n",
              " 'banodha',\n",
              " 'bansada',\n",
              " 'bansal',\n",
              " 'banshi',\n",
              " 'banshwal',\n",
              " 'bansi',\n",
              " 'bansilal',\n",
              " 'banta',\n",
              " 'banti',\n",
              " 'bantu',\n",
              " 'banty',\n",
              " 'banu',\n",
              " 'banwari',\n",
              " 'banwarilal',\n",
              " 'bapu',\n",
              " 'baradaha',\n",
              " 'barakha',\n",
              " 'baran',\n",
              " 'barham',\n",
              " 'bari',\n",
              " 'barj',\n",
              " 'barjesh',\n",
              " 'barjo',\n",
              " 'barjraj',\n",
              " 'barkat',\n",
              " 'barkha',\n",
              " 'barman',\n",
              " 'barsa',\n",
              " 'barti',\n",
              " 'bartwal',\n",
              " 'basant',\n",
              " 'basanta',\n",
              " 'basanti',\n",
              " 'basava',\n",
              " 'basda',\n",
              " 'bashanti',\n",
              " 'bashudev',\n",
              " 'basi',\n",
              " 'basibul',\n",
              " 'basir',\n",
              " 'basiran',\n",
              " 'basnti',\n",
              " 'bassi',\n",
              " 'basyal',\n",
              " ...]"
            ]
          },
          "metadata": {
            "tags": []
          },
          "execution_count": 51
        }
      ]
    },
    {
      "cell_type": "code",
      "metadata": {
        "id": "YdyDBMF3xsqq",
        "colab_type": "code",
        "colab": {}
      },
      "source": [
        "Y = dffinal.gender"
      ],
      "execution_count": 0,
      "outputs": []
    },
    {
      "cell_type": "code",
      "metadata": {
        "id": "9oEUlicBx28w",
        "colab_type": "code",
        "colab": {}
      },
      "source": [
        "x_train, x_test, y_train, y_test = train_test_split(X, Y, test_size=0.33, random_state=42)"
      ],
      "execution_count": 0,
      "outputs": []
    },
    {
      "cell_type": "code",
      "metadata": {
        "id": "t0oT1onkyR1l",
        "colab_type": "code",
        "colab": {
          "base_uri": "https://localhost:8080/",
          "height": 34
        },
        "outputId": "cb49d578-bdb2-4723-fbd3-031f4acd31ec"
      },
      "source": [
        "from sklearn.naive_bayes import MultinomialNB\n",
        "model = MultinomialNB()\n",
        "model.fit(x_train,y_train)"
      ],
      "execution_count": 54,
      "outputs": [
        {
          "output_type": "execute_result",
          "data": {
            "text/plain": [
              "MultinomialNB(alpha=1.0, class_prior=None, fit_prior=True)"
            ]
          },
          "metadata": {
            "tags": []
          },
          "execution_count": 54
        }
      ]
    },
    {
      "cell_type": "code",
      "metadata": {
        "id": "-MZRKZz5yn4N",
        "colab_type": "code",
        "colab": {
          "base_uri": "https://localhost:8080/",
          "height": 34
        },
        "outputId": "64b7cf2a-2a43-431b-8e28-03ff1df14c46"
      },
      "source": [
        "model.score(x_test,y_test)"
      ],
      "execution_count": 55,
      "outputs": [
        {
          "output_type": "execute_result",
          "data": {
            "text/plain": [
              "0.9104761904761904"
            ]
          },
          "metadata": {
            "tags": []
          },
          "execution_count": 55
        }
      ]
    },
    {
      "cell_type": "code",
      "metadata": {
        "id": "c08KhNl5ywUO",
        "colab_type": "code",
        "colab": {}
      },
      "source": [
        "sample = [\"sai\"]\n",
        "vector = cv.transform(sample).toarray()"
      ],
      "execution_count": 0,
      "outputs": []
    },
    {
      "cell_type": "code",
      "metadata": {
        "id": "fWRtJGoCzKKK",
        "colab_type": "code",
        "colab": {
          "base_uri": "https://localhost:8080/",
          "height": 34
        },
        "outputId": "ab1f6a78-379d-4f06-8bfb-79d56dcac269"
      },
      "source": [
        "model.predict(vector)"
      ],
      "execution_count": 57,
      "outputs": [
        {
          "output_type": "execute_result",
          "data": {
            "text/plain": [
              "array([0])"
            ]
          },
          "metadata": {
            "tags": []
          },
          "execution_count": 57
        }
      ]
    },
    {
      "cell_type": "code",
      "metadata": {
        "id": "ej87DeTTzVZ0",
        "colab_type": "code",
        "colab": {}
      },
      "source": [
        "sample1 = [\"panda sai sankara kesava nath\"]\n",
        "vector1 = cv.transform(sample1).toarray()"
      ],
      "execution_count": 0,
      "outputs": []
    },
    {
      "cell_type": "code",
      "metadata": {
        "id": "dvhLUfE1zkcL",
        "colab_type": "code",
        "colab": {
          "base_uri": "https://localhost:8080/",
          "height": 34
        },
        "outputId": "f3ce2e24-53dc-4890-ae5a-d181171ff950"
      },
      "source": [
        "model.predict(vector1)"
      ],
      "execution_count": 59,
      "outputs": [
        {
          "output_type": "execute_result",
          "data": {
            "text/plain": [
              "array([1])"
            ]
          },
          "metadata": {
            "tags": []
          },
          "execution_count": 59
        }
      ]
    },
    {
      "cell_type": "code",
      "metadata": {
        "id": "rdvVYK4Tzp3T",
        "colab_type": "code",
        "colab": {}
      },
      "source": [
        "sample2 = [\"panda krishna vamsi nath\"]\n",
        "vector2 = cv.transform(sample2).toarray()"
      ],
      "execution_count": 0,
      "outputs": []
    },
    {
      "cell_type": "code",
      "metadata": {
        "id": "XcsJqh19zy4s",
        "colab_type": "code",
        "colab": {
          "base_uri": "https://localhost:8080/",
          "height": 34
        },
        "outputId": "29aadc9f-56ab-4f97-e98e-24f46bd1d2ea"
      },
      "source": [
        "model.predict(vector2)"
      ],
      "execution_count": 61,
      "outputs": [
        {
          "output_type": "execute_result",
          "data": {
            "text/plain": [
              "array([1])"
            ]
          },
          "metadata": {
            "tags": []
          },
          "execution_count": 61
        }
      ]
    },
    {
      "cell_type": "code",
      "metadata": {
        "id": "7WGybhSwz3s3",
        "colab_type": "code",
        "colab": {}
      },
      "source": [
        "sample3 = [\"moulika\"]\n",
        "vector3 = cv.transform(sample3).toarray()"
      ],
      "execution_count": 0,
      "outputs": []
    },
    {
      "cell_type": "code",
      "metadata": {
        "id": "BzeHGbXH0BQ9",
        "colab_type": "code",
        "colab": {
          "base_uri": "https://localhost:8080/",
          "height": 34
        },
        "outputId": "37c86d41-e83e-422f-e3df-35d3f9def97f"
      },
      "source": [
        "model.predict(vector3)"
      ],
      "execution_count": 71,
      "outputs": [
        {
          "output_type": "execute_result",
          "data": {
            "text/plain": [
              "array([0])"
            ]
          },
          "metadata": {
            "tags": []
          },
          "execution_count": 71
        }
      ]
    },
    {
      "cell_type": "code",
      "metadata": {
        "id": "V8tbDbAZ0PRI",
        "colab_type": "code",
        "colab": {}
      },
      "source": [
        "sample4 = [\"bhavani\"]\n",
        "vector4 = cv.transform(sample4).toarray()"
      ],
      "execution_count": 0,
      "outputs": []
    },
    {
      "cell_type": "code",
      "metadata": {
        "id": "HWf7BRQX0Wa1",
        "colab_type": "code",
        "colab": {
          "base_uri": "https://localhost:8080/",
          "height": 34
        },
        "outputId": "6cd1b9e6-2158-48eb-c416-0b38b7a3c055"
      },
      "source": [
        "model.predict(vector4)"
      ],
      "execution_count": 69,
      "outputs": [
        {
          "output_type": "execute_result",
          "data": {
            "text/plain": [
              "array([0])"
            ]
          },
          "metadata": {
            "tags": []
          },
          "execution_count": 69
        }
      ]
    },
    {
      "cell_type": "code",
      "metadata": {
        "id": "MPZsnPZI0l8g",
        "colab_type": "code",
        "colab": {}
      },
      "source": [
        ""
      ],
      "execution_count": 0,
      "outputs": []
    }
  ]
}